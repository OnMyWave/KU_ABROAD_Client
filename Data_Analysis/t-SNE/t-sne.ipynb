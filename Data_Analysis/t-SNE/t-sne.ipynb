{
 "cells": [
  {
   "cell_type": "code",
   "execution_count": 1,
   "metadata": {},
   "outputs": [],
   "source": [
    "# Import Libraries\n",
    "\n",
    "import pandas as pd\n",
    "import os\n",
    "from sklearn.manifold import TSNE\n",
    "import matplotlib.pyplot as plt\n",
    "import seaborn as sns"
   ]
  },
  {
   "cell_type": "code",
   "execution_count": 37,
   "metadata": {},
   "outputs": [
    {
     "data": {
      "text/plain": [
       "Index(['name', 'continent', 'country', 'city', 'univ_image', 'r1', 's1', 'e1',\n",
       "       'r2', 's2', 'e2', 'r3', 's3', 'e3', 'r4', 's4', 'e4', 'r5', 's5', 'e5',\n",
       "       'sem1_weather', 'sem1_temp_mean', 'sem1_rain_mean', 'sem1_period',\n",
       "       'sem2_weather', 'sem2_temp_mean', 'sem2_rain_mean', 'sem2_period',\n",
       "       'domi', 'domi_0', 'per_domi', 'travel_idx', 'title1', 'image1',\n",
       "       'title2', 'image2', 'title3', 'image3', 'trip_link', 'living_num',\n",
       "       'living_idx', 'crime_num', 'crime_idx', 'language', 'inter_stu_ratio',\n",
       "       'traffic_score', 'bus', 'train', 'gvi_idx', 'sdg_idx', 'one_year',\n",
       "       'gpa', 'TOEFL', 'IELTS', 'etc', 'uniq', 'hashtag1', 'hashtag2',\n",
       "       'hashtag3', 'recommend_place1', 'recommend_place2', 'score',\n",
       "       'wordcloud1_url', 'wordcloud2_url', 'wordcloud3_url', 'wordcloud4_url',\n",
       "       'wordcloud5_url', 'wordcloud6_url', 'wordcloud7_url', 'wordcloud8_url',\n",
       "       'wordcloud9_url'],\n",
       "      dtype='object')"
      ]
     },
     "execution_count": 37,
     "metadata": {},
     "output_type": "execute_result"
    }
   ],
   "source": [
    "# Import Data \n",
    "\n",
    "data = pd.read_csv(os.getcwd() +'/das.csv')\n",
    "raw_data = data.copy()\n",
    "data.columns"
   ]
  },
  {
   "cell_type": "code",
   "execution_count": 36,
   "metadata": {},
   "outputs": [
    {
     "name": "stdout",
     "output_type": "stream",
     "text": [
      "<class 'pandas.core.frame.DataFrame'>\n",
      "RangeIndex: 999 entries, 0 to 998\n",
      "Data columns (total 19 columns):\n",
      " #   Column           Non-Null Count  Dtype  \n",
      "---  ------           --------------  -----  \n",
      " 0   sem1_temp_mean   999 non-null    float64\n",
      " 1   sem1_rain_mean   999 non-null    float64\n",
      " 2   sem2_temp_mean   999 non-null    float64\n",
      " 3   sem2_rain_mean   999 non-null    float64\n",
      " 4   travel_idx       999 non-null    float64\n",
      " 5   bus              999 non-null    float64\n",
      " 6   train            999 non-null    float64\n",
      " 7   living_idx       999 non-null    float64\n",
      " 8   crime_idx        999 non-null    float64\n",
      " 9   inter_stu_ratio  999 non-null    float64\n",
      " 10  gvi_idx          999 non-null    float64\n",
      " 11  sdg_idx          999 non-null    float64\n",
      " 12  sem1_temp_mean   999 non-null    float64\n",
      " 13  sem1_rain_mean   999 non-null    float64\n",
      " 14  sem2_temp_mean   999 non-null    float64\n",
      " 15  sem2_rain_mean   999 non-null    float64\n",
      " 16  travel_idx       999 non-null    float64\n",
      " 17  bus              999 non-null    float64\n",
      " 18  train            999 non-null    float64\n",
      "dtypes: float64(19)\n",
      "memory usage: 148.4 KB\n"
     ]
    }
   ],
   "source": [
    "data.info()"
   ]
  },
  {
   "cell_type": "code",
   "execution_count": 38,
   "metadata": {},
   "outputs": [],
   "source": [
    "## Selecting columns for t-SNE model\n",
    "\n",
    "### 학업 관련 \n",
    "studies = ['s1','s2','s3','s4','s5','gpa','TOEFL']\n",
    "### 사회적 가치 관련 \n",
    "ESG_idxes = ['living_idx','crime_idx','inter_stu_ratio','gvi_idx','sdg_idx']\n",
    "### 날씨 및 여행 관련 \n",
    "travels = ['sem1_temp_mean','sem1_rain_mean','sem2_temp_mean','sem2_rain_mean','travel_idx','bus','train']\n"
   ]
  },
  {
   "cell_type": "code",
   "execution_count": 39,
   "metadata": {},
   "outputs": [],
   "source": [
    "# fillNa to t-SNE model\n",
    "\n",
    "data[studies] = data[studies].apply(lambda x: x.fillna(x.min()), axis = 0)\n",
    "data[ESG_idxes] = data[ESG_idxes].apply(lambda x: x.fillna(x.mean()), axis = 0)\n",
    "data[travels] = data[travels].apply(lambda x: x.fillna(x.mean()), axis = 0)\n",
    "\n",
    "data = data[travels + ESG_idxes +travels]"
   ]
  },
  {
   "cell_type": "code",
   "execution_count": 50,
   "metadata": {},
   "outputs": [],
   "source": [
    "\n",
    "# 2차원으로 차원 축소\n",
    "n_components = 2\n",
    "\n",
    "# t-sne 모델 생성\n",
    "model = TSNE(n_components=2, perplexity=40.0, early_exaggeration=12.0,\n",
    "     learning_rate=200.0, n_iter=1000, n_iter_without_progress=300,\n",
    "     min_grad_norm=1e-07, metric='euclidean', init='random', verbose=0,\n",
    "     random_state=None, method='barnes_hut', angle=0.5)\n",
    "\n",
    "# 학습한 결과 2차원 공간 값 출력\n",
    "trans_data = model.fit_transform(data)\n",
    "\n",
    "\n"
   ]
  },
  {
   "cell_type": "code",
   "execution_count": 51,
   "metadata": {},
   "outputs": [
    {
     "name": "stderr",
     "output_type": "stream",
     "text": [
      "/Users/onmywave/miniforge3/envs/env/lib/python3.8/site-packages/seaborn/_decorators.py:36: FutureWarning: Pass the following variables as keyword args: x, y. From version 0.12, the only valid positional argument will be `data`, and passing other arguments without an explicit keyword will result in an error or misinterpretation.\n",
      "  warnings.warn(\n"
     ]
    },
    {
     "data": {
      "image/png": "[encoded data removed]",
      "text/plain": [
       "<Figure size 432x288 with 1 Axes>"
      ]
     },
     "metadata": {
      "needs_background": "light"
     },
     "output_type": "display_data"
    }
   ],
   "source": [
    "\n",
    "palette = sns.color_palette(\"bright\", 10)\n",
    "sns.scatterplot(trans_data[:,0], trans_data[:,1], legend='full', palette=palette)\n",
    "plt.show()\n"
   ]
  },
  {
   "cell_type": "code",
   "execution_count": 43,
   "metadata": {},
   "outputs": [
    {
     "data": {
      "text/html": [
       "<div>\n",
       "<style scoped>\n",
       "    .dataframe tbody tr th:only-of-type {\n",
       "        vertical-align: middle;\n",
       "    }\n",
       "\n",
       "    .dataframe tbody tr th {\n",
       "        vertical-align: top;\n",
       "    }\n",
       "\n",
       "    .dataframe thead th {\n",
       "        text-align: right;\n",
       "    }\n",
       "</style>\n",
       "<table border=\"1\" class=\"dataframe\">\n",
       "  <thead>\n",
       "    <tr style=\"text-align: right;\">\n",
       "      <th></th>\n",
       "      <th>component1</th>\n",
       "      <th>component2</th>\n",
       "      <th>name</th>\n",
       "    </tr>\n",
       "  </thead>\n",
       "  <tbody>\n",
       "    <tr>\n",
       "      <th>0</th>\n",
       "      <td>6.602726</td>\n",
       "      <td>-4.959789</td>\n",
       "      <td>National University of Singapore</td>\n",
       "    </tr>\n",
       "    <tr>\n",
       "      <th>1</th>\n",
       "      <td>0.394358</td>\n",
       "      <td>-7.523468</td>\n",
       "      <td>University of Leeds</td>\n",
       "    </tr>\n",
       "    <tr>\n",
       "      <th>2</th>\n",
       "      <td>-0.790794</td>\n",
       "      <td>-6.083950</td>\n",
       "      <td>University of Texas at Austin</td>\n",
       "    </tr>\n",
       "    <tr>\n",
       "      <th>3</th>\n",
       "      <td>-1.424123</td>\n",
       "      <td>-1.521964</td>\n",
       "      <td>Sciences Po</td>\n",
       "    </tr>\n",
       "    <tr>\n",
       "      <th>4</th>\n",
       "      <td>-3.168869</td>\n",
       "      <td>-1.072887</td>\n",
       "      <td>University of Calgary</td>\n",
       "    </tr>\n",
       "    <tr>\n",
       "      <th>...</th>\n",
       "      <td>...</td>\n",
       "      <td>...</td>\n",
       "      <td>...</td>\n",
       "    </tr>\n",
       "    <tr>\n",
       "      <th>88</th>\n",
       "      <td>-4.472218</td>\n",
       "      <td>-2.926834</td>\n",
       "      <td>California State University</td>\n",
       "    </tr>\n",
       "    <tr>\n",
       "      <th>89</th>\n",
       "      <td>1.688105</td>\n",
       "      <td>-2.851772</td>\n",
       "      <td>University of Zurich</td>\n",
       "    </tr>\n",
       "    <tr>\n",
       "      <th>90</th>\n",
       "      <td>-6.811232</td>\n",
       "      <td>-2.825307</td>\n",
       "      <td>Peking University</td>\n",
       "    </tr>\n",
       "    <tr>\n",
       "      <th>91</th>\n",
       "      <td>3.990893</td>\n",
       "      <td>-9.633844</td>\n",
       "      <td>Ochanomizu University</td>\n",
       "    </tr>\n",
       "    <tr>\n",
       "      <th>92</th>\n",
       "      <td>-6.872846</td>\n",
       "      <td>-4.140209</td>\n",
       "      <td>Nodata</td>\n",
       "    </tr>\n",
       "  </tbody>\n",
       "</table>\n",
       "<p>93 rows × 3 columns</p>\n",
       "</div>"
      ],
      "text/plain": [
       "    component1  component2                              name\n",
       "0     6.602726   -4.959789  National University of Singapore\n",
       "1     0.394358   -7.523468               University of Leeds\n",
       "2    -0.790794   -6.083950     University of Texas at Austin\n",
       "3    -1.424123   -1.521964                       Sciences Po\n",
       "4    -3.168869   -1.072887             University of Calgary\n",
       "..         ...         ...                               ...\n",
       "88   -4.472218   -2.926834       California State University\n",
       "89    1.688105   -2.851772              University of Zurich\n",
       "90   -6.811232   -2.825307                 Peking University\n",
       "91    3.990893   -9.633844             Ochanomizu University\n",
       "92   -6.872846   -4.140209                            Nodata\n",
       "\n",
       "[93 rows x 3 columns]"
      ]
     },
     "execution_count": 43,
     "metadata": {},
     "output_type": "execute_result"
    }
   ],
   "source": [
    "titled_data = pd.DataFrame(trans_data)\n",
    "\n",
    "titled_data['name'] = raw_data['name']\n",
    "titled_data.columns = ['component1','component2','name']\n",
    "\n",
    "titled_data"
   ]
  },
  {
   "cell_type": "code",
   "execution_count": 8,
   "metadata": {},
   "outputs": [],
   "source": [
    "titled_data.to_csv('titled_data.csv')"
   ]
  },
  {
   "cell_type": "markdown",
   "metadata": {},
   "source": []
  },
  {
   "cell_type": "code",
   "execution_count": 9,
   "metadata": {},
   "outputs": [],
   "source": [
    "data.to_csv('data.csv')"
   ]
  }
 ],
 "metadata": {
  "kernelspec": {
   "display_name": "Python 3.8.13 64-bit ('env': conda)",
   "language": "python",
   "name": "python3"
  },
  "language_info": {
   "codemirror_mode": {
    "name": "ipython",
    "version": 3
   },
   "file_extension": ".py",
   "mimetype": "text/x-python",
   "name": "python",
   "nbconvert_exporter": "python",
   "pygments_lexer": "ipython3",
   "version": "3.8.13"
  },
  "orig_nbformat": 4,
  "vscode": {
   "interpreter": {
    "hash": "6a5b60688788e6e458da1da836120a4055e669fe2b4e18fc6595f7a71c2d91dd"
   }
  }
 },
 "nbformat": 4,
 "nbformat_minor": 2
}
